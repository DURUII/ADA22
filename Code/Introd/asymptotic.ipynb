{
 "cells": [
  {
   "cell_type": "markdown",
   "metadata": {
    "collapsed": false,
    "pycharm": {
     "name": "#%% md\n"
    }
   },
   "source": [
    "# Finding Hardness, ignoring low-order terms, units, and coefficients\n",
    "\n",
    "$f(n)$: time/space of an algrorithm of an input of size n\n",
    "$O (g(n))$: a set of functions that are upper bounded by $c*g(n)$ \\[for some constant $c,n_0$ when every $n \\ge n_0$\\]\n",
    "$\\Omega(g(n))$: a set of functions that are lower bounded by $c*g(n)$ \\[for some constant $c,n_0$ when every $n \\ge n_0$\\]\n",
    "$\\Theta(g(n)) $: a set of functions that are tight bounded by $c*g(n)$ \\[for some constant $c,n_0$ when every $n \\ge n_0$\\]\n",
    "\n",
    "in asymptotic analysis, \"$=$\" means \"$\\in$\" (belong to)"
   ]
  },
  {
   "cell_type": "markdown",
   "metadata": {
    "collapsed": false
   },
   "source": [
    "# Bubble-sort"
   ]
  },
  {
   "cell_type": "code",
   "execution_count": 4,
   "metadata": {
    "collapsed": false
   },
   "outputs": [
    {
     "name": "stdout",
     "output_type": "stream",
     "text": [
      "[7, 3, 1, 4, 6, 2, 5]\n",
      "[3, 1, 4, 6, 2, 5, 7]\n",
      "[1, 3, 4, 2, 5, 6, 7]\n",
      "[1, 3, 2, 4, 5, 6, 7]\n",
      "[1, 2, 3, 4, 5, 6, 7]\n"
     ]
    }
   ],
   "source": [
    "A = [7, 3, 1, 4, 6, 2, 5]                    # n=7, non-tight analysis\n",
    "done = False                                 # O(1) time\n",
    "while not done:                              # O(f(n)) iterations\n",
    "    done = True                              # O(1) time\n",
    "    print(A)                                 # O(1) time\n",
    "    for i in range(len(A) - 1):              # O(n) iterations\n",
    "        if A[i + 1] < A[i]:                  # O(1) time\n",
    "            A[i], A[i + 1] = A[i + 1], A[i]  # O(1) time\n",
    "            done = False                     # O(1) time"
   ]
  },
  {
   "cell_type": "code",
   "execution_count": null,
   "metadata": {
    "collapsed": false
   },
   "outputs": [],
   "source": []
  }
 ],
 "metadata": {
  "kernelspec": {
   "display_name": "Python 3",
   "language": "python",
   "name": "python3"
  },
  "language_info": {
   "codemirror_mode": {
    "name": "ipython",
    "version": 2
   },
   "file_extension": ".py",
   "mimetype": "text/x-python",
   "name": "python",
   "nbconvert_exporter": "python",
   "pygments_lexer": "ipython2",
   "version": "3.10.6 (v3.10.6:9c7b4bd164, Aug  1 2022, 17:13:48) [Clang 13.0.0 (clang-1300.0.29.30)]"
  },
  "vscode": {
   "interpreter": {
    "hash": "aee8b7b246df8f9039afb4144a1f6fd8d2ca17a180786b69acc140d282b71a49"
   }
  }
 },
 "nbformat": 4,
 "nbformat_minor": 0
}

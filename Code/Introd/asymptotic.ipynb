{
 "cells": [
  {
   "cell_type": "markdown",
   "source": [
    "# Finding Hardness, ignoring low-order terms, units, and coefficients\n",
    "\n",
    "$f(n)$: time/space of an algrorithm of an input of size n\n",
    "$O (g(n))$: a set of functions that are upper bounded by $c*g(n)$ \\[for some constant $c,n_0$ when every $n \\ge n_0$\\]\n",
    "$\\Omega(g(n))$: a set of functions that are lower bounded by $c*g(n)$ \\[for some constant $c,n_0$ when every $n \\ge n_0$\\]\n",
    "$\\Theta(g(n)) $: a set of functions that are tight bounded by $c*g(n)$ \\[for some constant $c,n_0$ when every $n \\ge n_0$\\]\n",
    "\n",
    "in asymptotic analysis, \"$=$\" means \"$\\in$\" (belong to)"
   ],
   "metadata": {
    "collapsed": false,
    "pycharm": {
     "name": "#%% md\n"
    }
   }
  },
  {
   "cell_type": "markdown",
   "source": [
    "# Bubble-sort"
   ],
   "metadata": {
    "collapsed": false,
    "pycharm": {
     "name": "#%% md\n"
    }
   }
  },
  {
   "cell_type": "code",
   "execution_count": null,
   "outputs": [],
   "source": [
    "A = [7, 3, 1, 4, 6, 2, 5]                    # n=7, non-tight analysis\n",
    "done = False                                 # O(1) time\n",
    "while not done:                              # O(f(n)) iterations\n",
    "    done = True                              # O(1) time\n",
    "    print(A)                                 # O(1) time\n",
    "    for i in range(len(A) - 1):              # O(n) iterations\n",
    "        if A[i + 1] < A[i]:                  # O(1) time\n",
    "            A[i], A[i + 1] = A[i + 1], A[i]  # O(1) time\n",
    "            done = False                     # O(1) time"
   ],
   "metadata": {
    "collapsed": false,
    "pycharm": {
     "name": "#%%\n"
    }
   }
  },
  {
   "cell_type": "markdown",
   "source": [
    "# Bubble-sort"
   ],
   "metadata": {
    "collapsed": false
   }
  },
  {
   "cell_type": "code",
   "execution_count": 4,
   "outputs": [
    {
     "name": "stdout",
     "output_type": "stream",
     "text": [
      "[7, 3, 1, 4, 6, 2, 5]\n",
      "[3, 1, 4, 6, 2, 5, 7]\n",
      "[1, 3, 4, 2, 5, 6, 7]\n",
      "[1, 3, 2, 4, 5, 6, 7]\n",
      "[1, 2, 3, 4, 5, 6, 7]\n"
     ]
    }
   ],
   "source": [
    "A = [7, 3, 1, 4, 6, 2, 5]                    # n=7, non-tight analysis\n",
    "done = False                                 # O(1) time\n",
    "while not done:                              # O(f(n)) iterations\n",
    "    done = True                              # O(1) time\n",
    "    print(A)                                 # O(1) time\n",
    "    for i in range(len(A) - 1):              # O(n) iterations\n",
    "        if A[i + 1] < A[i]:                  # O(1) time\n",
    "            A[i], A[i + 1] = A[i + 1], A[i]  # O(1) time\n",
    "            done = False                     # O(1) time"
   ],
   "metadata": {
    "collapsed": false
   }
  },
  {
   "cell_type": "code",
   "execution_count": null,
   "outputs": [],
   "source": [],
   "metadata": {
    "collapsed": false
   }
  }
 ],
 "metadata": {
  "kernelspec": {
   "display_name": "Python 3",
   "language": "python",
   "name": "python3"
  },
  "language_info": {
   "codemirror_mode": {
    "name": "ipython",
    "version": 2
   },
   "file_extension": ".py",
   "mimetype": "text/x-python",
   "name": "python",
   "nbconvert_exporter": "python",
   "pygments_lexer": "ipython2",
   "version": "2.7.6"
  }
 },
 "nbformat": 4,
 "nbformat_minor": 0
}
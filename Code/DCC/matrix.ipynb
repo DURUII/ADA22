{
 "cells": [
  {
   "cell_type": "code",
   "execution_count": 87,
   "metadata": {
    "pycharm": {
     "name": "#%%\n"
    }
   },
   "outputs": [],
   "source": [
    "import numpy as np\n",
    "import time\n",
    "\n",
    "n = int(2 ** 5)\n",
    "A = np.random.randn(n, n)\n",
    "B = np.random.randn(n, n)\n"
   ]
  },
  {
   "cell_type": "code",
   "execution_count": 100,
   "metadata": {
    "pycharm": {
     "name": "#%%\n"
    }
   },
   "outputs": [],
   "source": [
    "# O(n^3)\n",
    "def multiply(n, A, B):\n",
    "    # base case O(1)\n",
    "    if n == 1:\n",
    "        return A * B\n",
    "\n",
    "    # recursive case\n",
    "    # divide and conquer 8*T(n/2)\n",
    "    A11 = A[:n // 2, :n // 2]\n",
    "    B11 = B[:n // 2, :n // 2]\n",
    "    A12 = A[:n // 2, n // 2:]\n",
    "    B12 = B[:n // 2, n // 2:]\n",
    "    A21 = A[n // 2:, :n // 2]\n",
    "    B21 = B[n // 2:, :n // 2]\n",
    "    A22 = A[n // 2:, n // 2:]\n",
    "    B22 = B[n // 2:, n // 2:]\n",
    "    M1 = multiply(n // 2, A11, B11)\n",
    "    M2 = multiply(n // 2, A11, B12)\n",
    "    M3 = multiply(n // 2, A21, B11)\n",
    "    M4 = multiply(n // 2, A21, B12)\n",
    "    M5 = multiply(n // 2, A12, B21)\n",
    "    M6 = multiply(n // 2, A12, B22)\n",
    "    M7 = multiply(n // 2, A22, B21)\n",
    "    M8 = multiply(n // 2, A22, B22)\n",
    "    # add/combine O(n^2)\n",
    "    C11 = M1 + M5\n",
    "    C12 = M2 + M6\n",
    "    C21 = M3 + M7\n",
    "    C22 = M4 + M8\n",
    "    C = np.vstack((np.hstack((C11, C12)),\n",
    "                   np.hstack((C21, C22))))\n",
    "    return C\n",
    "\n",
    "\n",
    "# O(n^2.807)\n",
    "\n",
    "\n",
    "def strassen(n, A, B):\n",
    "    # base case\n",
    "    if n == 1:\n",
    "        return A * B\n",
    "\n",
    "    # recursive case\n",
    "    # intuition: ac + ad + bc + bd = (a+b)(c+d)\n",
    "\n",
    "    # divide and conquer 7*T(n/2)\n",
    "    A11 = A[:n // 2, :n // 2]\n",
    "    B11 = B[:n // 2, :n // 2]\n",
    "    A12 = A[:n // 2, n // 2:]\n",
    "    B12 = B[:n // 2, n // 2:]\n",
    "    A21 = A[n // 2:, :n // 2]\n",
    "    B21 = B[n // 2:, :n // 2]\n",
    "    A22 = A[n // 2:, n // 2:]\n",
    "    B22 = B[n // 2:, n // 2:]\n",
    "    M1 = multiply(n // 2, A11 + A22, B11 + B22)\n",
    "    M2 = multiply(n // 2, A21 + A22, B11)\n",
    "    M3 = multiply(n // 2, A11, B12 - B22)\n",
    "    M4 = multiply(n // 2, A22, B21 - B11)\n",
    "    M5 = multiply(n // 2, A11 + A12, B22)\n",
    "    M6 = multiply(n // 2, A21 - A11, B11 + B12)\n",
    "    M7 = multiply(n // 2, A12 - A22, B21 + B22)\n",
    "\n",
    "    C11 = M1 + M4 - M5 + M7\n",
    "    C12 = M3 + M5\n",
    "    C21 = M2 + M4\n",
    "    C22 = M1 - M2 + M3 + M6\n",
    "\n",
    "    # add/combine O(n^2)\n",
    "    C = np.vstack((np.hstack((C11, C12)),\n",
    "                   np.hstack((C21, C22))))\n",
    "    return C"
   ]
  },
  {
   "attachments": {},
   "cell_type": "markdown",
   "metadata": {
    "pycharm": {
     "name": "#%% md\n"
    }
   },
   "source": [
    "# Comparison\n"
   ]
  },
  {
   "attachments": {},
   "cell_type": "markdown",
   "metadata": {
    "pycharm": {
     "name": "#%% md\n"
    }
   },
   "source": [
    "## Brute Force\n"
   ]
  },
  {
   "cell_type": "code",
   "execution_count": 101,
   "metadata": {
    "pycharm": {
     "name": "#%%\n"
    }
   },
   "outputs": [
    {
     "name": "stdout",
     "output_type": "stream",
     "text": [
      "1.5390452627490956\n",
      "0.018070875000375963\n"
     ]
    }
   ],
   "source": [
    "tik = time.perf_counter()\n",
    "\n",
    "C = np.zeros((n, n))\n",
    "for i in range(n):\n",
    "    for j in range(n):\n",
    "        C[i, j] = 0\n",
    "        for k in range(n):\n",
    "            C[i, j] += A[i, k] * B[k, j]\n",
    "print(C[0, 0])\n",
    "\n",
    "tok = time.perf_counter()\n",
    "print(tok - tik)\n"
   ]
  },
  {
   "attachments": {},
   "cell_type": "markdown",
   "metadata": {
    "pycharm": {
     "name": "#%% md\n"
    }
   },
   "source": [
    "## Divide & Conquer\n"
   ]
  },
  {
   "cell_type": "code",
   "execution_count": 102,
   "metadata": {
    "pycharm": {
     "name": "#%%\n"
    }
   },
   "outputs": [
    {
     "name": "stdout",
     "output_type": "stream",
     "text": [
      "1.5390452627490956\n",
      "0.0792071659998328\n"
     ]
    }
   ],
   "source": [
    "tik = time.perf_counter()\n",
    "\n",
    "print(multiply(n, A, B)[0, 0])\n",
    "\n",
    "tok = time.perf_counter()\n",
    "print(tok - tik)\n"
   ]
  },
  {
   "attachments": {},
   "cell_type": "markdown",
   "metadata": {
    "pycharm": {
     "name": "#%% md\n"
    }
   },
   "source": [
    "## Strassen's\n"
   ]
  },
  {
   "cell_type": "code",
   "execution_count": 103,
   "metadata": {
    "pycharm": {
     "name": "#%%\n"
    }
   },
   "outputs": [
    {
     "name": "stdout",
     "output_type": "stream",
     "text": [
      "1.539045262749096\n",
      "0.07124979100080964\n"
     ]
    }
   ],
   "source": [
    "tik = time.perf_counter()\n",
    "\n",
    "print(strassen(n, A, B)[0, 0])\n",
    "\n",
    "tok = time.perf_counter()\n",
    "print(tok - tik)\n"
   ]
  },
  {
   "attachments": {},
   "cell_type": "markdown",
   "metadata": {
    "pycharm": {
     "name": "#%% md\n"
    }
   },
   "source": [
    "## Numpy\n"
   ]
  },
  {
   "cell_type": "code",
   "execution_count": 104,
   "metadata": {
    "pycharm": {
     "name": "#%%\n"
    }
   },
   "outputs": [
    {
     "name": "stdout",
     "output_type": "stream",
     "text": [
      "1.5390452627490956\n",
      "0.0018986249997396953\n"
     ]
    }
   ],
   "source": [
    "tik = time.perf_counter()\n",
    "\n",
    "print((np.dot(A, B))[0, 0])\n",
    "\n",
    "tok = time.perf_counter()\n",
    "print(tok - tik)\n"
   ]
  },
  {
   "attachments": {},
   "cell_type": "markdown",
   "metadata": {
    "pycharm": {
     "name": "#%% md\n"
    }
   },
   "source": [
    "![](res/MatrixMultComplexity.jpeg)"
   ]
  },
  {
   "cell_type": "markdown",
   "metadata": {
    "pycharm": {
     "name": "#%% md\n"
    }
   },
   "source": []
  }
 ],
 "metadata": {
  "kernelspec": {
   "display_name": "Python 3",
   "language": "python",
   "name": "python3"
  },
  "language_info": {
   "codemirror_mode": {
    "name": "ipython",
    "version": 3
   },
   "file_extension": ".py",
   "mimetype": "text/x-python",
   "name": "python",
   "nbconvert_exporter": "python",
   "pygments_lexer": "ipython3",
   "version": "3.9.12 (main, Jun  1 2022, 06:34:44) \n[Clang 12.0.0 ]"
  },
  "orig_nbformat": 4,
  "vscode": {
   "interpreter": {
    "hash": "43a73a93c40e8bc8094e83c77e4646ae144c352f4fb3891108c70b34d6437305"
   }
  }
 },
 "nbformat": 4,
 "nbformat_minor": 2
}